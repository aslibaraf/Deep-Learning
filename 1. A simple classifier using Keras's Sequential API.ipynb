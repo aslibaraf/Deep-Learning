{
 "cells": [
  {
   "cell_type": "markdown",
   "id": "24c9ee09",
   "metadata": {},
   "source": [
    "# Working on mnist dataset "
   ]
  },
  {
   "cell_type": "markdown",
   "id": "e43c6d1d",
   "metadata": {},
   "source": [
    "* This dataset contains handwritten digits. \n",
    "* It has 10 classes i.e. 0 to 9\n",
    "* Each data point is 2D array of 28x28 size.\n",
    "* Also known as hello world dataset for ANN"
   ]
  },
  {
   "cell_type": "code",
   "execution_count": null,
   "id": "bc29704c",
   "metadata": {},
   "outputs": [],
   "source": []
  },
  {
   "cell_type": "code",
   "execution_count": 1,
   "id": "d111cffd",
   "metadata": {},
   "outputs": [],
   "source": [
    "import tensorflow as tf"
   ]
  },
  {
   "cell_type": "code",
   "execution_count": 2,
   "id": "e220d69a",
   "metadata": {},
   "outputs": [
    {
     "data": {
      "text/plain": [
       "[]"
      ]
     },
     "execution_count": 2,
     "metadata": {},
     "output_type": "execute_result"
    }
   ],
   "source": [
    "tf.config.list_physical_devices(\"GPU\")"
   ]
  },
  {
   "cell_type": "code",
   "execution_count": 3,
   "id": "76e73cd9",
   "metadata": {},
   "outputs": [
    {
     "data": {
      "text/plain": [
       "[PhysicalDevice(name='/physical_device:CPU:0', device_type='CPU')]"
      ]
     },
     "execution_count": 3,
     "metadata": {},
     "output_type": "execute_result"
    }
   ],
   "source": [
    "tf.config.list_physical_devices(\"CPU\")"
   ]
  },
  {
   "cell_type": "code",
   "execution_count": 4,
   "id": "6da74818",
   "metadata": {},
   "outputs": [],
   "source": [
    "import numpy as np\n",
    "import matplotlib.pyplot as plt\n",
    "import pandas as pd\n"
   ]
  },
  {
   "cell_type": "code",
   "execution_count": 5,
   "id": "06e4490f",
   "metadata": {},
   "outputs": [],
   "source": [
    "# Keras has already contains mnist dataset \n",
    "# Loading mnist data using Keras\n",
    "mnist=tf.keras.datasets.mnist"
   ]
  },
  {
   "cell_type": "code",
   "execution_count": 6,
   "id": "cbb80489",
   "metadata": {},
   "outputs": [],
   "source": [
    "(X_train_full, y_train_full), (X_test, y_test) = mnist.load_data()"
   ]
  },
  {
   "cell_type": "code",
   "execution_count": 7,
   "id": "77951521",
   "metadata": {},
   "outputs": [],
   "source": [
    "# create a validation data set from the full training data \n",
    "# Scale the data between 0 to 1 by dividing it by 255. as its an unsigned data between 0-255 range\n",
    "X_valid, X_train = X_train_full[:5000] / 255., X_train_full[5000:] / 255.\n",
    "# X_valid, X_train = X_train_full[:5000], X_train_full[5000:]\n",
    "\n",
    "y_valid, y_train = y_train_full[:5000], y_train_full[5000:]\n",
    "\n",
    "# scale the test set as well\n",
    "X_test = X_test / 255.\n",
    "# X_test = X_test"
   ]
  },
  {
   "cell_type": "code",
   "execution_count": 8,
   "id": "c1bf4e7a",
   "metadata": {},
   "outputs": [
    {
     "data": {
      "text/plain": [
       "array([[[0, 0, 0, ..., 0, 0, 0],\n",
       "        [0, 0, 0, ..., 0, 0, 0],\n",
       "        [0, 0, 0, ..., 0, 0, 0],\n",
       "        ...,\n",
       "        [0, 0, 0, ..., 0, 0, 0],\n",
       "        [0, 0, 0, ..., 0, 0, 0],\n",
       "        [0, 0, 0, ..., 0, 0, 0]],\n",
       "\n",
       "       [[0, 0, 0, ..., 0, 0, 0],\n",
       "        [0, 0, 0, ..., 0, 0, 0],\n",
       "        [0, 0, 0, ..., 0, 0, 0],\n",
       "        ...,\n",
       "        [0, 0, 0, ..., 0, 0, 0],\n",
       "        [0, 0, 0, ..., 0, 0, 0],\n",
       "        [0, 0, 0, ..., 0, 0, 0]],\n",
       "\n",
       "       [[0, 0, 0, ..., 0, 0, 0],\n",
       "        [0, 0, 0, ..., 0, 0, 0],\n",
       "        [0, 0, 0, ..., 0, 0, 0],\n",
       "        ...,\n",
       "        [0, 0, 0, ..., 0, 0, 0],\n",
       "        [0, 0, 0, ..., 0, 0, 0],\n",
       "        [0, 0, 0, ..., 0, 0, 0]],\n",
       "\n",
       "       ...,\n",
       "\n",
       "       [[0, 0, 0, ..., 0, 0, 0],\n",
       "        [0, 0, 0, ..., 0, 0, 0],\n",
       "        [0, 0, 0, ..., 0, 0, 0],\n",
       "        ...,\n",
       "        [0, 0, 0, ..., 0, 0, 0],\n",
       "        [0, 0, 0, ..., 0, 0, 0],\n",
       "        [0, 0, 0, ..., 0, 0, 0]],\n",
       "\n",
       "       [[0, 0, 0, ..., 0, 0, 0],\n",
       "        [0, 0, 0, ..., 0, 0, 0],\n",
       "        [0, 0, 0, ..., 0, 0, 0],\n",
       "        ...,\n",
       "        [0, 0, 0, ..., 0, 0, 0],\n",
       "        [0, 0, 0, ..., 0, 0, 0],\n",
       "        [0, 0, 0, ..., 0, 0, 0]],\n",
       "\n",
       "       [[0, 0, 0, ..., 0, 0, 0],\n",
       "        [0, 0, 0, ..., 0, 0, 0],\n",
       "        [0, 0, 0, ..., 0, 0, 0],\n",
       "        ...,\n",
       "        [0, 0, 0, ..., 0, 0, 0],\n",
       "        [0, 0, 0, ..., 0, 0, 0],\n",
       "        [0, 0, 0, ..., 0, 0, 0]]], dtype=uint8)"
      ]
     },
     "execution_count": 8,
     "metadata": {},
     "output_type": "execute_result"
    }
   ],
   "source": [
    "X_train_full"
   ]
  },
  {
   "cell_type": "code",
   "execution_count": 9,
   "id": "1d6169a8",
   "metadata": {},
   "outputs": [
    {
     "data": {
      "text/plain": [
       "<matplotlib.image.AxesImage at 0x16e9d4efa30>"
      ]
     },
     "execution_count": 9,
     "metadata": {},
     "output_type": "execute_result"
    },
    {
     "data": {
      "image/png": "[encoded data removed]",
      "text/plain": [
       "<Figure size 432x288 with 1 Axes>"
      ]
     },
     "metadata": {
      "needs_background": "light"
     },
     "output_type": "display_data"
    }
   ],
   "source": [
    "plt.imshow(X_train_full[11])"
   ]
  },
  {
   "cell_type": "code",
   "execution_count": 10,
   "id": "0934cf2c",
   "metadata": {},
   "outputs": [
    {
     "data": {
      "text/plain": [
       "(10000, 28, 28)"
      ]
     },
     "execution_count": 10,
     "metadata": {},
     "output_type": "execute_result"
    }
   ],
   "source": [
    "X_test.shape"
   ]
  },
  {
   "cell_type": "code",
   "execution_count": 11,
   "id": "8898eb79",
   "metadata": {},
   "outputs": [
    {
     "data": {
      "text/plain": [
       "(60000, 28, 28)"
      ]
     },
     "execution_count": 11,
     "metadata": {},
     "output_type": "execute_result"
    }
   ],
   "source": [
    "X_train_full.shape"
   ]
  },
  {
   "cell_type": "code",
   "execution_count": 12,
   "id": "d8b7891f",
   "metadata": {},
   "outputs": [],
   "source": [
    "X_valid, X_train = X_train_full[:5000] / 255.0 , X_train_full[5000:] / 255.0\n",
    "y_valid, y_train = y_train_full[:5000], y_train_full[5000:]"
   ]
  },
  {
   "cell_type": "code",
   "execution_count": 13,
   "id": "3792a9f7",
   "metadata": {},
   "outputs": [
    {
     "data": {
      "text/plain": [
       "(-0.5, 27.5, 27.5, -0.5)"
      ]
     },
     "execution_count": 13,
     "metadata": {},
     "output_type": "execute_result"
    },
    {
     "data": {
      "image/png": "[encoded data removed]",
      "text/plain": [
       "<Figure size 432x288 with 1 Axes>"
      ]
     },
     "metadata": {
      "needs_background": "light"
     },
     "output_type": "display_data"
    }
   ],
   "source": [
    "plt.imshow(X_train[1], cmap=\"binary\")\n",
    "plt.axis(\"off\")\n"
   ]
  },
  {
   "cell_type": "code",
   "execution_count": 14,
   "id": "966e1c33",
   "metadata": {},
   "outputs": [
    {
     "data": {
      "text/plain": [
       "<AxesSubplot:>"
      ]
     },
     "execution_count": 14,
     "metadata": {},
     "output_type": "execute_result"
    },
    {
     "data": {
      "image/png": "[encoded data removed]",
      "text/plain": [
       "<Figure size 1080x1080 with 2 Axes>"
      ]
     },
     "metadata": {
      "needs_background": "light"
     },
     "output_type": "display_data"
    }
   ],
   "source": [
    "import seaborn as sns\n",
    "plt.figure(figsize=(15,15))\n",
    "sns.heatmap(X_train[0], annot=True, cmap=\"binary\")"
   ]
  },
  {
   "cell_type": "code",
   "execution_count": 15,
   "id": "87236803",
   "metadata": {},
   "outputs": [],
   "source": [
    "LAYERS = [tf.keras.layers.Flatten(input_shape=[28, 28], name=\"inputLayer\"),\n",
    "          tf.keras.layers.Dense(300, activation=\"relu\", name=\"hiddenLayer1\"),\n",
    "          tf.keras.layers.Dense(100, activation=\"relu\", name=\"hiddenLayer2\"),\n",
    "          tf.keras.layers.Dense(10, activation=\"softmax\", name=\"outputLayer\")]"
   ]
  },
  {
   "cell_type": "code",
   "execution_count": 16,
   "id": "d7010019",
   "metadata": {},
   "outputs": [
    {
     "data": {
      "text/plain": [
       "[<tensorflow.python.keras.layers.core.Flatten at 0x16e9ec69520>,\n",
       " <tensorflow.python.keras.layers.core.Dense at 0x16e9d5f0430>,\n",
       " <tensorflow.python.keras.layers.core.Dense at 0x16e9eceb160>,\n",
       " <tensorflow.python.keras.layers.core.Dense at 0x16e9eceb4c0>]"
      ]
     },
     "execution_count": 16,
     "metadata": {},
     "output_type": "execute_result"
    }
   ],
   "source": [
    "model_clf = tf.keras.models.Sequential(LAYERS)\n",
    "model_clf.layers"
   ]
  },
  {
   "cell_type": "code",
   "execution_count": 17,
   "id": "ca982146",
   "metadata": {},
   "outputs": [
    {
     "name": "stdout",
     "output_type": "stream",
     "text": [
      "Model: \"sequential\"\n",
      "_________________________________________________________________\n",
      "Layer (type)                 Output Shape              Param #   \n",
      "=================================================================\n",
      "inputLayer (Flatten)         (None, 784)               0         \n",
      "_________________________________________________________________\n",
      "hiddenLayer1 (Dense)         (None, 300)               235500    \n",
      "_________________________________________________________________\n",
      "hiddenLayer2 (Dense)         (None, 100)               30100     \n",
      "_________________________________________________________________\n",
      "outputLayer (Dense)          (None, 10)                1010      \n",
      "=================================================================\n",
      "Total params: 266,610\n",
      "Trainable params: 266,610\n",
      "Non-trainable params: 0\n",
      "_________________________________________________________________\n"
     ]
    }
   ],
   "source": [
    "model_clf.summary()"
   ]
  },
  {
   "cell_type": "code",
   "execution_count": 18,
   "id": "628200c3",
   "metadata": {},
   "outputs": [],
   "source": [
    "LOSS_FUNCTION = \"sparse_categorical_crossentropy\" # use => tf.losses.sparse_categorical_crossentropy\n",
    "OPTIMIZER = \"SGD\" # or use with custom learning rate=> tf.keras.optimizers.SGD(0.02)\n",
    "METRICS = [\"accuracy\"]"
   ]
  },
  {
   "cell_type": "code",
   "execution_count": 19,
   "id": "c6f61ab7",
   "metadata": {},
   "outputs": [],
   "source": [
    "\n",
    "model_clf.compile(loss=LOSS_FUNCTION,\n",
    "              optimizer=OPTIMIZER,\n",
    "              metrics=METRICS)"
   ]
  },
  {
   "cell_type": "code",
   "execution_count": 20,
   "id": "b658c431",
   "metadata": {},
   "outputs": [
    {
     "name": "stdout",
     "output_type": "stream",
     "text": [
      "saving logs at: logs/fit\\log_2021_10_02_11_45_16\n"
     ]
    }
   ],
   "source": [
    "import time\n",
    "import os\n",
    "\n",
    "def get_log_path(log_dir=\"logs/fit\"):\n",
    "    fileName = time.strftime(\"log_%Y_%m_%d_%H_%M_%S\")\n",
    "    log_path = os.path.join(log_dir, fileName)\n",
    "    print(f\"saving logs at: {log_path}\")\n",
    "    return log_path\n",
    "\n",
    "log_dir = get_log_path()\n",
    "\n",
    "tb_cb = tf.keras.callbacks.TensorBoard(log_dir=log_dir)\n",
    "early_stopping_cb = tf.keras.callbacks.EarlyStopping(patience=5, restore_best_weights=True)\n",
    "CKPT_path = \"model_ckpt.h5\"\n",
    "checkpointing_cb = tf.keras.callbacks.ModelCheckpoint(CKPT_path, save_best_only=True)"
   ]
  },
  {
   "cell_type": "code",
   "execution_count": 21,
   "id": "a84a0ca3",
   "metadata": {},
   "outputs": [
    {
     "name": "stdout",
     "output_type": "stream",
     "text": [
      "Epoch 1/50\n",
      "   1/1719 [..............................] - ETA: 0s - loss: 2.3449 - accuracy: 0.0938WARNING:tensorflow:From C:\\ProgramData\\Anaconda3\\lib\\site-packages\\tensorflow\\python\\ops\\summary_ops_v2.py:1277: stop (from tensorflow.python.eager.profiler) is deprecated and will be removed after 2020-07-01.\n",
      "Instructions for updating:\n",
      "use `tf.profiler.experimental.stop` instead.\n",
      "   2/1719 [..............................] - ETA: 8:21 - loss: 2.3876 - accuracy: 0.0781WARNING:tensorflow:Callbacks method `on_train_batch_begin` is slow compared to the batch time (batch time: 0.0060s vs `on_train_batch_begin` time: 0.0090s). Check your callbacks.\n",
      "WARNING:tensorflow:Callbacks method `on_train_batch_end` is slow compared to the batch time (batch time: 0.0060s vs `on_train_batch_end` time: 0.5688s). Check your callbacks.\n",
      "1719/1719 [==============================] - 9s 5ms/step - loss: 0.5898 - accuracy: 0.8509 - val_loss: 0.2965 - val_accuracy: 0.9200\n",
      "Epoch 2/50\n",
      "1719/1719 [==============================] - 8s 4ms/step - loss: 0.2827 - accuracy: 0.9189 - val_loss: 0.2339 - val_accuracy: 0.9358\n",
      "Epoch 3/50\n",
      "1719/1719 [==============================] - 8s 4ms/step - loss: 0.2313 - accuracy: 0.9343 - val_loss: 0.2002 - val_accuracy: 0.9424\n",
      "Epoch 4/50\n",
      "1719/1719 [==============================] - 8s 4ms/step - loss: 0.1978 - accuracy: 0.9435 - val_loss: 0.1724 - val_accuracy: 0.9498\n",
      "Epoch 5/50\n",
      "1719/1719 [==============================] - 8s 4ms/step - loss: 0.1725 - accuracy: 0.9510 - val_loss: 0.1560 - val_accuracy: 0.9548\n",
      "Epoch 6/50\n",
      "1719/1719 [==============================] - 8s 4ms/step - loss: 0.1530 - accuracy: 0.9566 - val_loss: 0.1419 - val_accuracy: 0.9582\n",
      "Epoch 7/50\n",
      "1719/1719 [==============================] - 9s 5ms/step - loss: 0.1372 - accuracy: 0.9609 - val_loss: 0.1292 - val_accuracy: 0.9624\n",
      "Epoch 8/50\n",
      "1719/1719 [==============================] - 8s 5ms/step - loss: 0.1242 - accuracy: 0.9649 - val_loss: 0.1206 - val_accuracy: 0.9654\n",
      "Epoch 9/50\n",
      "1719/1719 [==============================] - 9s 5ms/step - loss: 0.1131 - accuracy: 0.9680 - val_loss: 0.1155 - val_accuracy: 0.9648\n",
      "Epoch 10/50\n",
      "1719/1719 [==============================] - 9s 5ms/step - loss: 0.1043 - accuracy: 0.9704 - val_loss: 0.1095 - val_accuracy: 0.9676\n",
      "Epoch 11/50\n",
      "1719/1719 [==============================] - 8s 5ms/step - loss: 0.0957 - accuracy: 0.9729 - val_loss: 0.1014 - val_accuracy: 0.9720\n",
      "Epoch 12/50\n",
      "1719/1719 [==============================] - 8s 5ms/step - loss: 0.0884 - accuracy: 0.9751 - val_loss: 0.1023 - val_accuracy: 0.9716\n",
      "Epoch 13/50\n",
      "1719/1719 [==============================] - 8s 5ms/step - loss: 0.0823 - accuracy: 0.9772 - val_loss: 0.0927 - val_accuracy: 0.9730\n",
      "Epoch 14/50\n",
      "1719/1719 [==============================] - 8s 5ms/step - loss: 0.0769 - accuracy: 0.9780 - val_loss: 0.0915 - val_accuracy: 0.9750\n",
      "Epoch 15/50\n",
      "1719/1719 [==============================] - 8s 5ms/step - loss: 0.0717 - accuracy: 0.9799 - val_loss: 0.0897 - val_accuracy: 0.9732\n",
      "Epoch 16/50\n",
      "1719/1719 [==============================] - 8s 5ms/step - loss: 0.0670 - accuracy: 0.9818 - val_loss: 0.0853 - val_accuracy: 0.9754\n",
      "Epoch 17/50\n",
      "1719/1719 [==============================] - 9s 5ms/step - loss: 0.0629 - accuracy: 0.9829 - val_loss: 0.0844 - val_accuracy: 0.9736\n",
      "Epoch 18/50\n",
      "1719/1719 [==============================] - 8s 5ms/step - loss: 0.0588 - accuracy: 0.9839 - val_loss: 0.0776 - val_accuracy: 0.9766\n",
      "Epoch 19/50\n",
      "1719/1719 [==============================] - 8s 5ms/step - loss: 0.0556 - accuracy: 0.9848 - val_loss: 0.0786 - val_accuracy: 0.9754\n",
      "Epoch 20/50\n",
      "1719/1719 [==============================] - 8s 5ms/step - loss: 0.0524 - accuracy: 0.9858 - val_loss: 0.0757 - val_accuracy: 0.9764\n",
      "Epoch 21/50\n",
      "1719/1719 [==============================] - 8s 5ms/step - loss: 0.0492 - accuracy: 0.9869 - val_loss: 0.0756 - val_accuracy: 0.9762\n",
      "Epoch 22/50\n",
      "1719/1719 [==============================] - 8s 5ms/step - loss: 0.0462 - accuracy: 0.9879 - val_loss: 0.0752 - val_accuracy: 0.9766\n",
      "Epoch 23/50\n",
      "1719/1719 [==============================] - 8s 5ms/step - loss: 0.0436 - accuracy: 0.9890 - val_loss: 0.0721 - val_accuracy: 0.9774\n",
      "Epoch 24/50\n",
      "1719/1719 [==============================] - 8s 5ms/step - loss: 0.0413 - accuracy: 0.9893 - val_loss: 0.0698 - val_accuracy: 0.9776\n",
      "Epoch 25/50\n",
      "1719/1719 [==============================] - 8s 5ms/step - loss: 0.0388 - accuracy: 0.9898 - val_loss: 0.0701 - val_accuracy: 0.9794\n",
      "Epoch 26/50\n",
      "1719/1719 [==============================] - 8s 5ms/step - loss: 0.0364 - accuracy: 0.9911 - val_loss: 0.0680 - val_accuracy: 0.9802\n",
      "Epoch 27/50\n",
      "1719/1719 [==============================] - 8s 5ms/step - loss: 0.0346 - accuracy: 0.9917 - val_loss: 0.0702 - val_accuracy: 0.9786\n",
      "Epoch 28/50\n",
      "1719/1719 [==============================] - 8s 5ms/step - loss: 0.0328 - accuracy: 0.9920 - val_loss: 0.0655 - val_accuracy: 0.9796\n",
      "Epoch 29/50\n",
      "1719/1719 [==============================] - 8s 5ms/step - loss: 0.0311 - accuracy: 0.9926 - val_loss: 0.0675 - val_accuracy: 0.9796\n",
      "Epoch 30/50\n",
      "1719/1719 [==============================] - 8s 5ms/step - loss: 0.0295 - accuracy: 0.9932 - val_loss: 0.0663 - val_accuracy: 0.9800\n",
      "Epoch 31/50\n",
      "1719/1719 [==============================] - 8s 5ms/step - loss: 0.0277 - accuracy: 0.9937 - val_loss: 0.0664 - val_accuracy: 0.9818\n",
      "Epoch 32/50\n",
      "1719/1719 [==============================] - 8s 5ms/step - loss: 0.0262 - accuracy: 0.9946 - val_loss: 0.0644 - val_accuracy: 0.9818\n",
      "Epoch 33/50\n",
      "1719/1719 [==============================] - 8s 4ms/step - loss: 0.0250 - accuracy: 0.9946 - val_loss: 0.0640 - val_accuracy: 0.9822\n",
      "Epoch 34/50\n",
      "1719/1719 [==============================] - 8s 5ms/step - loss: 0.0234 - accuracy: 0.9951 - val_loss: 0.0643 - val_accuracy: 0.9812\n",
      "Epoch 35/50\n",
      "1719/1719 [==============================] - 8s 4ms/step - loss: 0.0223 - accuracy: 0.9957 - val_loss: 0.0645 - val_accuracy: 0.9804\n",
      "Epoch 36/50\n",
      "1719/1719 [==============================] - 8s 4ms/step - loss: 0.0212 - accuracy: 0.9959 - val_loss: 0.0658 - val_accuracy: 0.9804\n",
      "Epoch 37/50\n",
      "1719/1719 [==============================] - 8s 4ms/step - loss: 0.0200 - accuracy: 0.9964 - val_loss: 0.0633 - val_accuracy: 0.9822\n",
      "Epoch 38/50\n",
      "1719/1719 [==============================] - 8s 4ms/step - loss: 0.0190 - accuracy: 0.9968 - val_loss: 0.0635 - val_accuracy: 0.9812\n",
      "Epoch 39/50\n",
      "1719/1719 [==============================] - 8s 5ms/step - loss: 0.0179 - accuracy: 0.9969 - val_loss: 0.0634 - val_accuracy: 0.9812\n",
      "Epoch 40/50\n",
      "1719/1719 [==============================] - 9s 5ms/step - loss: 0.0170 - accuracy: 0.9974 - val_loss: 0.0626 - val_accuracy: 0.9826\n",
      "Epoch 41/50\n",
      "1719/1719 [==============================] - 8s 5ms/step - loss: 0.0162 - accuracy: 0.9975 - val_loss: 0.0664 - val_accuracy: 0.9804\n",
      "Epoch 42/50\n",
      "1719/1719 [==============================] - 8s 5ms/step - loss: 0.0156 - accuracy: 0.9976 - val_loss: 0.0643 - val_accuracy: 0.9818\n",
      "Epoch 43/50\n",
      "1719/1719 [==============================] - 8s 5ms/step - loss: 0.0148 - accuracy: 0.9979 - val_loss: 0.0630 - val_accuracy: 0.9834\n",
      "Epoch 44/50\n",
      "1719/1719 [==============================] - 8s 5ms/step - loss: 0.0140 - accuracy: 0.9981 - val_loss: 0.0637 - val_accuracy: 0.9812\n",
      "Epoch 45/50\n",
      "1719/1719 [==============================] - 8s 5ms/step - loss: 0.0134 - accuracy: 0.9983 - val_loss: 0.0630 - val_accuracy: 0.9804\n"
     ]
    }
   ],
   "source": [
    "# EPOCHS = 30\n",
    "EPOCHS = 50\n",
    "\n",
    "# EPOCHS = 200\n",
    "\n",
    "VALIDATION_SET = (X_valid, y_valid)\n",
    "\n",
    "history = model_clf.fit(X_train, y_train, epochs=EPOCHS,\n",
    "                    validation_data=VALIDATION_SET, batch_size=32, callbacks=[tb_cb, early_stopping_cb,\n",
    "                                                                              checkpointing_cb])"
   ]
  },
  {
   "cell_type": "code",
   "execution_count": 22,
   "id": "ae67db9a",
   "metadata": {},
   "outputs": [],
   "source": [
    "import time\n",
    "import os\n",
    "def savemodel_path(model_dir='Trained_model'):\n",
    "        os.makedirs(model_dir,exist_ok=True)\n",
    "        fileName=time.strftime(\"model_%Y_%m_d_%H_%M_%S.h5\")\n",
    "        model_path=os.path.join(model_dir,fileName)\n",
    "        print(f\"your model {fileName} is save at {model_path}\")\n",
    "        return model_path"
   ]
  },
  {
   "cell_type": "code",
   "execution_count": 23,
   "id": "0933b820",
   "metadata": {},
   "outputs": [
    {
     "name": "stdout",
     "output_type": "stream",
     "text": [
      "your model model_2021_10_d_11_51_20.h5 is save at Trained_model\\model_2021_10_d_11_51_20.h5\n"
     ]
    },
    {
     "data": {
      "text/plain": [
       "'Trained_model\\\\model_2021_10_d_11_51_20.h5'"
      ]
     },
     "execution_count": 23,
     "metadata": {},
     "output_type": "execute_result"
    }
   ],
   "source": [
    "path=savemodel_path()\n",
    "path"
   ]
  },
  {
   "cell_type": "code",
   "execution_count": 24,
   "id": "2970e7f3",
   "metadata": {},
   "outputs": [],
   "source": [
    "tf.keras.models.save_model(model_clf,path)"
   ]
  },
  {
   "cell_type": "code",
   "execution_count": 25,
   "id": "afbe0163",
   "metadata": {},
   "outputs": [
    {
     "data": {
      "text/html": [
       "<div>\n",
       "<style scoped>\n",
       "    .dataframe tbody tr th:only-of-type {\n",
       "        vertical-align: middle;\n",
       "    }\n",
       "\n",
       "    .dataframe tbody tr th {\n",
       "        vertical-align: top;\n",
       "    }\n",
       "\n",
       "    .dataframe thead th {\n",
       "        text-align: right;\n",
       "    }\n",
       "</style>\n",
       "<table border=\"1\" class=\"dataframe\">\n",
       "  <thead>\n",
       "    <tr style=\"text-align: right;\">\n",
       "      <th></th>\n",
       "      <th>loss</th>\n",
       "      <th>accuracy</th>\n",
       "      <th>val_loss</th>\n",
       "      <th>val_accuracy</th>\n",
       "    </tr>\n",
       "  </thead>\n",
       "  <tbody>\n",
       "    <tr>\n",
       "      <th>0</th>\n",
       "      <td>0.589795</td>\n",
       "      <td>0.850873</td>\n",
       "      <td>0.296488</td>\n",
       "      <td>0.9200</td>\n",
       "    </tr>\n",
       "    <tr>\n",
       "      <th>1</th>\n",
       "      <td>0.282700</td>\n",
       "      <td>0.918855</td>\n",
       "      <td>0.233866</td>\n",
       "      <td>0.9358</td>\n",
       "    </tr>\n",
       "    <tr>\n",
       "      <th>2</th>\n",
       "      <td>0.231348</td>\n",
       "      <td>0.934345</td>\n",
       "      <td>0.200176</td>\n",
       "      <td>0.9424</td>\n",
       "    </tr>\n",
       "    <tr>\n",
       "      <th>3</th>\n",
       "      <td>0.197771</td>\n",
       "      <td>0.943455</td>\n",
       "      <td>0.172449</td>\n",
       "      <td>0.9498</td>\n",
       "    </tr>\n",
       "    <tr>\n",
       "      <th>4</th>\n",
       "      <td>0.172517</td>\n",
       "      <td>0.951018</td>\n",
       "      <td>0.156007</td>\n",
       "      <td>0.9548</td>\n",
       "    </tr>\n",
       "    <tr>\n",
       "      <th>5</th>\n",
       "      <td>0.153037</td>\n",
       "      <td>0.956564</td>\n",
       "      <td>0.141938</td>\n",
       "      <td>0.9582</td>\n",
       "    </tr>\n",
       "    <tr>\n",
       "      <th>6</th>\n",
       "      <td>0.137181</td>\n",
       "      <td>0.960855</td>\n",
       "      <td>0.129186</td>\n",
       "      <td>0.9624</td>\n",
       "    </tr>\n",
       "    <tr>\n",
       "      <th>7</th>\n",
       "      <td>0.124155</td>\n",
       "      <td>0.964891</td>\n",
       "      <td>0.120559</td>\n",
       "      <td>0.9654</td>\n",
       "    </tr>\n",
       "    <tr>\n",
       "      <th>8</th>\n",
       "      <td>0.113086</td>\n",
       "      <td>0.968036</td>\n",
       "      <td>0.115490</td>\n",
       "      <td>0.9648</td>\n",
       "    </tr>\n",
       "    <tr>\n",
       "      <th>9</th>\n",
       "      <td>0.104340</td>\n",
       "      <td>0.970418</td>\n",
       "      <td>0.109532</td>\n",
       "      <td>0.9676</td>\n",
       "    </tr>\n",
       "    <tr>\n",
       "      <th>10</th>\n",
       "      <td>0.095717</td>\n",
       "      <td>0.972945</td>\n",
       "      <td>0.101360</td>\n",
       "      <td>0.9720</td>\n",
       "    </tr>\n",
       "    <tr>\n",
       "      <th>11</th>\n",
       "      <td>0.088407</td>\n",
       "      <td>0.975091</td>\n",
       "      <td>0.102272</td>\n",
       "      <td>0.9716</td>\n",
       "    </tr>\n",
       "    <tr>\n",
       "      <th>12</th>\n",
       "      <td>0.082290</td>\n",
       "      <td>0.977164</td>\n",
       "      <td>0.092696</td>\n",
       "      <td>0.9730</td>\n",
       "    </tr>\n",
       "    <tr>\n",
       "      <th>13</th>\n",
       "      <td>0.076889</td>\n",
       "      <td>0.978000</td>\n",
       "      <td>0.091530</td>\n",
       "      <td>0.9750</td>\n",
       "    </tr>\n",
       "    <tr>\n",
       "      <th>14</th>\n",
       "      <td>0.071670</td>\n",
       "      <td>0.979927</td>\n",
       "      <td>0.089734</td>\n",
       "      <td>0.9732</td>\n",
       "    </tr>\n",
       "    <tr>\n",
       "      <th>15</th>\n",
       "      <td>0.067020</td>\n",
       "      <td>0.981800</td>\n",
       "      <td>0.085295</td>\n",
       "      <td>0.9754</td>\n",
       "    </tr>\n",
       "    <tr>\n",
       "      <th>16</th>\n",
       "      <td>0.062891</td>\n",
       "      <td>0.982891</td>\n",
       "      <td>0.084386</td>\n",
       "      <td>0.9736</td>\n",
       "    </tr>\n",
       "    <tr>\n",
       "      <th>17</th>\n",
       "      <td>0.058830</td>\n",
       "      <td>0.983945</td>\n",
       "      <td>0.077602</td>\n",
       "      <td>0.9766</td>\n",
       "    </tr>\n",
       "    <tr>\n",
       "      <th>18</th>\n",
       "      <td>0.055593</td>\n",
       "      <td>0.984836</td>\n",
       "      <td>0.078565</td>\n",
       "      <td>0.9754</td>\n",
       "    </tr>\n",
       "    <tr>\n",
       "      <th>19</th>\n",
       "      <td>0.052370</td>\n",
       "      <td>0.985836</td>\n",
       "      <td>0.075703</td>\n",
       "      <td>0.9764</td>\n",
       "    </tr>\n",
       "    <tr>\n",
       "      <th>20</th>\n",
       "      <td>0.049218</td>\n",
       "      <td>0.986873</td>\n",
       "      <td>0.075649</td>\n",
       "      <td>0.9762</td>\n",
       "    </tr>\n",
       "    <tr>\n",
       "      <th>21</th>\n",
       "      <td>0.046234</td>\n",
       "      <td>0.987891</td>\n",
       "      <td>0.075203</td>\n",
       "      <td>0.9766</td>\n",
       "    </tr>\n",
       "    <tr>\n",
       "      <th>22</th>\n",
       "      <td>0.043592</td>\n",
       "      <td>0.988982</td>\n",
       "      <td>0.072095</td>\n",
       "      <td>0.9774</td>\n",
       "    </tr>\n",
       "    <tr>\n",
       "      <th>23</th>\n",
       "      <td>0.041335</td>\n",
       "      <td>0.989255</td>\n",
       "      <td>0.069805</td>\n",
       "      <td>0.9776</td>\n",
       "    </tr>\n",
       "    <tr>\n",
       "      <th>24</th>\n",
       "      <td>0.038829</td>\n",
       "      <td>0.989818</td>\n",
       "      <td>0.070099</td>\n",
       "      <td>0.9794</td>\n",
       "    </tr>\n",
       "    <tr>\n",
       "      <th>25</th>\n",
       "      <td>0.036429</td>\n",
       "      <td>0.991109</td>\n",
       "      <td>0.068009</td>\n",
       "      <td>0.9802</td>\n",
       "    </tr>\n",
       "    <tr>\n",
       "      <th>26</th>\n",
       "      <td>0.034630</td>\n",
       "      <td>0.991673</td>\n",
       "      <td>0.070231</td>\n",
       "      <td>0.9786</td>\n",
       "    </tr>\n",
       "    <tr>\n",
       "      <th>27</th>\n",
       "      <td>0.032840</td>\n",
       "      <td>0.992018</td>\n",
       "      <td>0.065549</td>\n",
       "      <td>0.9796</td>\n",
       "    </tr>\n",
       "    <tr>\n",
       "      <th>28</th>\n",
       "      <td>0.031079</td>\n",
       "      <td>0.992564</td>\n",
       "      <td>0.067468</td>\n",
       "      <td>0.9796</td>\n",
       "    </tr>\n",
       "    <tr>\n",
       "      <th>29</th>\n",
       "      <td>0.029534</td>\n",
       "      <td>0.993164</td>\n",
       "      <td>0.066251</td>\n",
       "      <td>0.9800</td>\n",
       "    </tr>\n",
       "    <tr>\n",
       "      <th>30</th>\n",
       "      <td>0.027717</td>\n",
       "      <td>0.993727</td>\n",
       "      <td>0.066427</td>\n",
       "      <td>0.9818</td>\n",
       "    </tr>\n",
       "    <tr>\n",
       "      <th>31</th>\n",
       "      <td>0.026156</td>\n",
       "      <td>0.994582</td>\n",
       "      <td>0.064445</td>\n",
       "      <td>0.9818</td>\n",
       "    </tr>\n",
       "    <tr>\n",
       "      <th>32</th>\n",
       "      <td>0.024972</td>\n",
       "      <td>0.994582</td>\n",
       "      <td>0.063953</td>\n",
       "      <td>0.9822</td>\n",
       "    </tr>\n",
       "    <tr>\n",
       "      <th>33</th>\n",
       "      <td>0.023418</td>\n",
       "      <td>0.995073</td>\n",
       "      <td>0.064300</td>\n",
       "      <td>0.9812</td>\n",
       "    </tr>\n",
       "    <tr>\n",
       "      <th>34</th>\n",
       "      <td>0.022283</td>\n",
       "      <td>0.995673</td>\n",
       "      <td>0.064501</td>\n",
       "      <td>0.9804</td>\n",
       "    </tr>\n",
       "    <tr>\n",
       "      <th>35</th>\n",
       "      <td>0.021190</td>\n",
       "      <td>0.995855</td>\n",
       "      <td>0.065777</td>\n",
       "      <td>0.9804</td>\n",
       "    </tr>\n",
       "    <tr>\n",
       "      <th>36</th>\n",
       "      <td>0.020029</td>\n",
       "      <td>0.996418</td>\n",
       "      <td>0.063253</td>\n",
       "      <td>0.9822</td>\n",
       "    </tr>\n",
       "    <tr>\n",
       "      <th>37</th>\n",
       "      <td>0.019035</td>\n",
       "      <td>0.996800</td>\n",
       "      <td>0.063505</td>\n",
       "      <td>0.9812</td>\n",
       "    </tr>\n",
       "    <tr>\n",
       "      <th>38</th>\n",
       "      <td>0.017935</td>\n",
       "      <td>0.996873</td>\n",
       "      <td>0.063429</td>\n",
       "      <td>0.9812</td>\n",
       "    </tr>\n",
       "    <tr>\n",
       "      <th>39</th>\n",
       "      <td>0.017045</td>\n",
       "      <td>0.997436</td>\n",
       "      <td>0.062629</td>\n",
       "      <td>0.9826</td>\n",
       "    </tr>\n",
       "    <tr>\n",
       "      <th>40</th>\n",
       "      <td>0.016176</td>\n",
       "      <td>0.997545</td>\n",
       "      <td>0.066388</td>\n",
       "      <td>0.9804</td>\n",
       "    </tr>\n",
       "    <tr>\n",
       "      <th>41</th>\n",
       "      <td>0.015588</td>\n",
       "      <td>0.997600</td>\n",
       "      <td>0.064341</td>\n",
       "      <td>0.9818</td>\n",
       "    </tr>\n",
       "    <tr>\n",
       "      <th>42</th>\n",
       "      <td>0.014768</td>\n",
       "      <td>0.997855</td>\n",
       "      <td>0.063001</td>\n",
       "      <td>0.9834</td>\n",
       "    </tr>\n",
       "    <tr>\n",
       "      <th>43</th>\n",
       "      <td>0.014021</td>\n",
       "      <td>0.998145</td>\n",
       "      <td>0.063654</td>\n",
       "      <td>0.9812</td>\n",
       "    </tr>\n",
       "    <tr>\n",
       "      <th>44</th>\n",
       "      <td>0.013375</td>\n",
       "      <td>0.998273</td>\n",
       "      <td>0.063004</td>\n",
       "      <td>0.9804</td>\n",
       "    </tr>\n",
       "  </tbody>\n",
       "</table>\n",
       "</div>"
      ],
      "text/plain": [
       "        loss  accuracy  val_loss  val_accuracy\n",
       "0   0.589795  0.850873  0.296488        0.9200\n",
       "1   0.282700  0.918855  0.233866        0.9358\n",
       "2   0.231348  0.934345  0.200176        0.9424\n",
       "3   0.197771  0.943455  0.172449        0.9498\n",
       "4   0.172517  0.951018  0.156007        0.9548\n",
       "5   0.153037  0.956564  0.141938        0.9582\n",
       "6   0.137181  0.960855  0.129186        0.9624\n",
       "7   0.124155  0.964891  0.120559        0.9654\n",
       "8   0.113086  0.968036  0.115490        0.9648\n",
       "9   0.104340  0.970418  0.109532        0.9676\n",
       "10  0.095717  0.972945  0.101360        0.9720\n",
       "11  0.088407  0.975091  0.102272        0.9716\n",
       "12  0.082290  0.977164  0.092696        0.9730\n",
       "13  0.076889  0.978000  0.091530        0.9750\n",
       "14  0.071670  0.979927  0.089734        0.9732\n",
       "15  0.067020  0.981800  0.085295        0.9754\n",
       "16  0.062891  0.982891  0.084386        0.9736\n",
       "17  0.058830  0.983945  0.077602        0.9766\n",
       "18  0.055593  0.984836  0.078565        0.9754\n",
       "19  0.052370  0.985836  0.075703        0.9764\n",
       "20  0.049218  0.986873  0.075649        0.9762\n",
       "21  0.046234  0.987891  0.075203        0.9766\n",
       "22  0.043592  0.988982  0.072095        0.9774\n",
       "23  0.041335  0.989255  0.069805        0.9776\n",
       "24  0.038829  0.989818  0.070099        0.9794\n",
       "25  0.036429  0.991109  0.068009        0.9802\n",
       "26  0.034630  0.991673  0.070231        0.9786\n",
       "27  0.032840  0.992018  0.065549        0.9796\n",
       "28  0.031079  0.992564  0.067468        0.9796\n",
       "29  0.029534  0.993164  0.066251        0.9800\n",
       "30  0.027717  0.993727  0.066427        0.9818\n",
       "31  0.026156  0.994582  0.064445        0.9818\n",
       "32  0.024972  0.994582  0.063953        0.9822\n",
       "33  0.023418  0.995073  0.064300        0.9812\n",
       "34  0.022283  0.995673  0.064501        0.9804\n",
       "35  0.021190  0.995855  0.065777        0.9804\n",
       "36  0.020029  0.996418  0.063253        0.9822\n",
       "37  0.019035  0.996800  0.063505        0.9812\n",
       "38  0.017935  0.996873  0.063429        0.9812\n",
       "39  0.017045  0.997436  0.062629        0.9826\n",
       "40  0.016176  0.997545  0.066388        0.9804\n",
       "41  0.015588  0.997600  0.064341        0.9818\n",
       "42  0.014768  0.997855  0.063001        0.9834\n",
       "43  0.014021  0.998145  0.063654        0.9812\n",
       "44  0.013375  0.998273  0.063004        0.9804"
      ]
     },
     "execution_count": 25,
     "metadata": {},
     "output_type": "execute_result"
    }
   ],
   "source": [
    "pd.DataFrame(history.history)"
   ]
  },
  {
   "cell_type": "code",
   "execution_count": 26,
   "id": "cf15ab5e",
   "metadata": {},
   "outputs": [
    {
     "data": {
      "text/plain": [
       "<AxesSubplot:>"
      ]
     },
     "execution_count": 26,
     "metadata": {},
     "output_type": "execute_result"
    },
    {
     "data": {
      "image/png": "[encoded data removed]",
      "text/plain": [
       "<Figure size 432x288 with 1 Axes>"
      ]
     },
     "metadata": {
      "needs_background": "light"
     },
     "output_type": "display_data"
    }
   ],
   "source": [
    "pd.DataFrame(history.history).plot()\n",
    "\n"
   ]
  },
  {
   "cell_type": "code",
   "execution_count": 27,
   "id": "28b6e1e1",
   "metadata": {},
   "outputs": [
    {
     "name": "stdout",
     "output_type": "stream",
     "text": [
      "313/313 [==============================] - 1s 3ms/step - loss: 0.0675 - accuracy: 0.9794\n"
     ]
    },
    {
     "data": {
      "text/plain": [
       "[0.06745710223913193, 0.9793999791145325]"
      ]
     },
     "execution_count": 27,
     "metadata": {},
     "output_type": "execute_result"
    }
   ],
   "source": [
    "model_clf.evaluate(X_test,y_test)"
   ]
  },
  {
   "cell_type": "code",
   "execution_count": 28,
   "id": "1555ef3e",
   "metadata": {},
   "outputs": [],
   "source": [
    "new=X_test[:4]"
   ]
  },
  {
   "cell_type": "code",
   "execution_count": 29,
   "id": "790a4710",
   "metadata": {},
   "outputs": [
    {
     "data": {
      "text/plain": [
       "array([[0., 0., 0., 0., 0., 0., 0., 1., 0., 0.],\n",
       "       [0., 0., 1., 0., 0., 0., 0., 0., 0., 0.],\n",
       "       [0., 1., 0., 0., 0., 0., 0., 0., 0., 0.],\n",
       "       [1., 0., 0., 0., 0., 0., 0., 0., 0., 0.]], dtype=float32)"
      ]
     },
     "execution_count": 29,
     "metadata": {},
     "output_type": "execute_result"
    }
   ],
   "source": [
    "y_pred=model_clf.predict(new).round(2)\n",
    "y_pred"
   ]
  },
  {
   "cell_type": "code",
   "execution_count": null,
   "id": "72bb573f",
   "metadata": {},
   "outputs": [],
   "source": []
  },
  {
   "cell_type": "code",
   "execution_count": 30,
   "id": "a9f34e8f",
   "metadata": {},
   "outputs": [],
   "source": [
    "y_new=np.argmax(y_pred,axis=-1)\n"
   ]
  },
  {
   "cell_type": "code",
   "execution_count": 31,
   "id": "a61b1abf",
   "metadata": {},
   "outputs": [
    {
     "data": {
      "text/plain": [
       "[(1, 2, 3), (2, 4, 6), (3, 6, 9), (4, 8, 12)]"
      ]
     },
     "execution_count": 31,
     "metadata": {},
     "output_type": "execute_result"
    }
   ],
   "source": [
    "#how zip is working\n",
    "a=[1,2,3,4]\n",
    "b=[2,4,6,8]\n",
    "c=[3,6,9,12]\n",
    "list(zip(a,b,c))"
   ]
  },
  {
   "cell_type": "code",
   "execution_count": 32,
   "id": "795579b7",
   "metadata": {},
   "outputs": [
    {
     "name": "stdout",
     "output_type": "stream",
     "text": [
      "1 2 3\n",
      "2 4 6\n",
      "3 6 9\n",
      "4 8 12\n"
     ]
    }
   ],
   "source": [
    "for x,y,z in zip(a,b,c):\n",
    "    print(x,y,z)"
   ]
  },
  {
   "cell_type": "code",
   "execution_count": 33,
   "id": "5987a6b0",
   "metadata": {},
   "outputs": [
    {
     "data": {
      "image/png": "[encoded data removed]",
      "text/plain": [
       "<Figure size 432x288 with 1 Axes>"
      ]
     },
     "metadata": {
      "needs_background": "light"
     },
     "output_type": "display_data"
    }
   ],
   "source": [
    "for data,pred,actual in zip(new,y_pred,y_new):\n",
    "    plt.imshow(data,cmap='binary')\n",
    "    plt.title(f\"predcited:{pred}, actual:{actual}\")"
   ]
  },
  {
   "cell_type": "code",
   "execution_count": 38,
   "id": "b3123048",
   "metadata": {},
   "outputs": [],
   "source": [
    "loadmodel=tf.keras.models.load_model('Trained_model/Model_2021_10_02_12_01_29_.h5')"
   ]
  },
  {
   "cell_type": "code",
   "execution_count": 39,
   "id": "f19fe82b",
   "metadata": {},
   "outputs": [
    {
     "name": "stdout",
     "output_type": "stream",
     "text": [
      "1719/1719 [==============================] - 5s 3ms/step - loss: 0.0252 - accuracy: 0.0991\n"
     ]
    },
    {
     "data": {
      "text/plain": [
       "[0.025210076943039894, 0.09914545714855194]"
      ]
     },
     "execution_count": 39,
     "metadata": {},
     "output_type": "execute_result"
    }
   ],
   "source": [
    "loadmodel.evaluate(X_train,y_train)"
   ]
  },
  {
   "cell_type": "markdown",
   "id": "fa6f7cb3",
   "metadata": {},
   "source": [
    "# tensor board"
   ]
  },
  {
   "cell_type": "code",
   "execution_count": 45,
   "id": "3d9f9746",
   "metadata": {},
   "outputs": [],
   "source": [
    "import time\n",
    "def get_logpath(log_dir='log/fit'):\n",
    "    filename=time.strftime(\"log_%Y_%m_%d_%H_%M_%S\")\n",
    "    model_path=os.path.join(log_dir,filename)\n",
    "    print(f\"saving model as {model_path} and name is {filename}\")\n",
    "    return model_path\n",
    "tb_cb=tf.keras.callbacks.TensorBoard(log_dir=log_dir)\n"
   ]
  },
  {
   "cell_type": "code",
   "execution_count": 46,
   "id": "6a119516",
   "metadata": {},
   "outputs": [
    {
     "name": "stdout",
     "output_type": "stream",
     "text": [
      "Epoch 1/10\n",
      "   2/1719 [..............................] - ETA: 1:33:57 - loss: 0.0231 - accuracy: 0.9844WARNING:tensorflow:Callbacks method `on_train_batch_begin` is slow compared to the batch time (batch time: 0.0410s vs `on_train_batch_begin` time: 0.1970s). Check your callbacks.\n",
      "WARNING:tensorflow:Callbacks method `on_train_batch_end` is slow compared to the batch time (batch time: 0.0410s vs `on_train_batch_end` time: 6.3291s). Check your callbacks.\n",
      "1719/1719 [==============================] - 14s 8ms/step - loss: 0.0163 - accuracy: 0.9975 - val_loss: 0.0646 - val_accuracy: 0.9824\n",
      "Epoch 2/10\n",
      "1719/1719 [==============================] - 7s 4ms/step - loss: 0.0154 - accuracy: 0.9979 - val_loss: 0.0635 - val_accuracy: 0.9822\n",
      "Epoch 3/10\n",
      "1719/1719 [==============================] - 8s 5ms/step - loss: 0.0146 - accuracy: 0.9979 - val_loss: 0.0622 - val_accuracy: 0.9814\n",
      "Epoch 4/10\n",
      "1719/1719 [==============================] - 8s 5ms/step - loss: 0.0140 - accuracy: 0.9981 - val_loss: 0.0629 - val_accuracy: 0.9816\n",
      "Epoch 5/10\n",
      "1719/1719 [==============================] - 7s 4ms/step - loss: 0.0133 - accuracy: 0.9985 - val_loss: 0.0627 - val_accuracy: 0.9820\n",
      "Epoch 6/10\n",
      "1719/1719 [==============================] - 7s 4ms/step - loss: 0.0127 - accuracy: 0.9984 - val_loss: 0.0644 - val_accuracy: 0.9812\n",
      "Epoch 7/10\n",
      "1719/1719 [==============================] - 7s 4ms/step - loss: 0.0122 - accuracy: 0.9987 - val_loss: 0.0643 - val_accuracy: 0.9828\n",
      "Epoch 8/10\n",
      "1719/1719 [==============================] - 7s 4ms/step - loss: 0.0115 - accuracy: 0.9987 - val_loss: 0.0637 - val_accuracy: 0.9830\n"
     ]
    }
   ],
   "source": [
    "# EPOCHS = 30\n",
    "EPOCHS = 10\n",
    "\n",
    "# EPOCHS = 200\n",
    "\n",
    "VALIDATION_SET = (X_valid, y_valid)\n",
    "\n",
    "history = model_clf.fit(X_train, y_train, epochs=EPOCHS,\n",
    "                    validation_data=VALIDATION_SET, batch_size=32, callbacks=[tb_cb, early_stopping_cb,\n",
    "                                                                              checkpointing_cb])"
   ]
  },
  {
   "cell_type": "code",
   "execution_count": 47,
   "id": "89f69cfb",
   "metadata": {},
   "outputs": [],
   "source": [
    "%load_ext tensorboard "
   ]
  },
  {
   "cell_type": "code",
   "execution_count": 50,
   "id": "ea593763",
   "metadata": {},
   "outputs": [
    {
     "data": {
      "text/plain": [
       "Reusing TensorBoard on port 6006 (pid 4904), started 0:01:30 ago. (Use '!kill 4904' to kill it.)"
      ]
     },
     "metadata": {},
     "output_type": "display_data"
    },
    {
     "data": {
      "text/html": [
       "\n",
       "      <iframe id=\"tensorboard-frame-f4435a536bc4a7e5\" width=\"100%\" height=\"800\" frameborder=\"0\">\n",
       "      </iframe>\n",
       "      <script>\n",
       "        (function() {\n",
       "          const frame = document.getElementById(\"tensorboard-frame-f4435a536bc4a7e5\");\n",
       "          const url = new URL(\"/\", window.location);\n",
       "          const port = 6006;\n",
       "          if (port) {\n",
       "            url.port = port;\n",
       "          }\n",
       "          frame.src = url;\n",
       "        })();\n",
       "      </script>\n",
       "    "
      ],
      "text/plain": [
       "<IPython.core.display.HTML object>"
      ]
     },
     "metadata": {},
     "output_type": "display_data"
    }
   ],
   "source": [
    "%tensorboard --logdir logs/fit"
   ]
  },
  {
   "cell_type": "code",
   "execution_count": 49,
   "id": "95a44293",
   "metadata": {},
   "outputs": [
    {
     "name": "stdout",
     "output_type": "stream",
     "text": [
      " Volume in drive D is HDD Window\n",
      " Volume Serial Number is F60C-9FEC\n",
      "\n",
      " Directory of D:\\Project\\IN\n",
      "\n",
      "10/02/2021  12:20 PM    <DIR>          .\n",
      "10/02/2021  12:20 PM    <DIR>          ..\n",
      "10/02/2021  11:57 AM    <DIR>          .ipynb_checkpoints\n",
      "10/02/2021  12:20 PM           170,231 1. A simple classifier using Keras's Sequential API.ipynb\n",
      "06/26/2021  10:44 PM             4,532 Data cleaning assignment.ipynb\n",
      "06/26/2021  10:38 PM             2,360 Exception handling Assignment.ipynb\n",
      "10/02/2021  12:09 PM           182,661 live demo.ipynb\n",
      "09/30/2021  08:15 PM    <DIR>          logs\n",
      "10/02/2021  12:19 PM         1,085,440 model_ckpt.h5\n",
      "10/02/2021  12:01 PM    <DIR>          Trained_model\n",
      "               5 File(s)      1,445,224 bytes\n",
      "               5 Dir(s)  89,091,375,104 bytes free\n"
     ]
    }
   ],
   "source": [
    "%ls"
   ]
  },
  {
   "cell_type": "code",
   "execution_count": null,
   "id": "df3b3a22",
   "metadata": {},
   "outputs": [],
   "source": []
  }
 ],
 "metadata": {
  "kernelspec": {
   "display_name": "Python 3",
   "language": "python",
   "name": "python3"
  },
  "language_info": {
   "codemirror_mode": {
    "name": "ipython",
    "version": 3
   },
   "file_extension": ".py",
   "mimetype": "text/x-python",
   "name": "python",
   "nbconvert_exporter": "python",
   "pygments_lexer": "ipython3",
   "version": "3.8.8"
  }
 },
 "nbformat": 4,
 "nbformat_minor": 5
}
